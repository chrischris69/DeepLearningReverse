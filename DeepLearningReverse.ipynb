{
 "cells": [
  {
   "cell_type": "markdown",
   "metadata": {},
   "source": [
    "## Reverse keras deep learning model\n",
    "\n",
    "- it can be useful to reverse ingeneering a model\n",
    "  \n",
    "- to convert newtork from api sequential network to api functional model style      \n",
    "\n"
   ]
  },
  {
   "cell_type": "code",
   "execution_count": 1,
   "metadata": {},
   "outputs": [
    {
     "name": "stderr",
     "output_type": "stream",
     "text": [
      "Using TensorFlow backend.\n",
      "C:\\ProgramData\\Anaconda33\\lib\\site-packages\\tensorflow\\python\\framework\\dtypes.py:526: FutureWarning: Passing (type, 1) or '1type' as a synonym of type is deprecated; in a future version of numpy, it will be understood as (type, (1,)) / '(1,)type'.\n",
      "  _np_qint8 = np.dtype([(\"qint8\", np.int8, 1)])\n",
      "C:\\ProgramData\\Anaconda33\\lib\\site-packages\\tensorflow\\python\\framework\\dtypes.py:527: FutureWarning: Passing (type, 1) or '1type' as a synonym of type is deprecated; in a future version of numpy, it will be understood as (type, (1,)) / '(1,)type'.\n",
      "  _np_quint8 = np.dtype([(\"quint8\", np.uint8, 1)])\n",
      "C:\\ProgramData\\Anaconda33\\lib\\site-packages\\tensorflow\\python\\framework\\dtypes.py:528: FutureWarning: Passing (type, 1) or '1type' as a synonym of type is deprecated; in a future version of numpy, it will be understood as (type, (1,)) / '(1,)type'.\n",
      "  _np_qint16 = np.dtype([(\"qint16\", np.int16, 1)])\n",
      "C:\\ProgramData\\Anaconda33\\lib\\site-packages\\tensorflow\\python\\framework\\dtypes.py:529: FutureWarning: Passing (type, 1) or '1type' as a synonym of type is deprecated; in a future version of numpy, it will be understood as (type, (1,)) / '(1,)type'.\n",
      "  _np_quint16 = np.dtype([(\"quint16\", np.uint16, 1)])\n",
      "C:\\ProgramData\\Anaconda33\\lib\\site-packages\\tensorflow\\python\\framework\\dtypes.py:530: FutureWarning: Passing (type, 1) or '1type' as a synonym of type is deprecated; in a future version of numpy, it will be understood as (type, (1,)) / '(1,)type'.\n",
      "  _np_qint32 = np.dtype([(\"qint32\", np.int32, 1)])\n",
      "C:\\ProgramData\\Anaconda33\\lib\\site-packages\\tensorflow\\python\\framework\\dtypes.py:535: FutureWarning: Passing (type, 1) or '1type' as a synonym of type is deprecated; in a future version of numpy, it will be understood as (type, (1,)) / '(1,)type'.\n",
      "  np_resource = np.dtype([(\"resource\", np.ubyte, 1)])\n"
     ]
    }
   ],
   "source": [
    "from keras import layers\n",
    "from keras.models import Model, Sequential\n",
    "from keras.layers import Concatenate, Input, Dense\n",
    "from keras.utils.vis_utils import plot_model\n",
    "\n",
    "from IPython.display import SVG\n",
    "from keras.utils.vis_utils import model_to_dot\n"
   ]
  },
  {
   "cell_type": "markdown",
   "metadata": {},
   "source": [
    "### Reverse ingenerring deep learning model to a source"
   ]
  },
  {
   "cell_type": "code",
   "execution_count": 2,
   "metadata": {},
   "outputs": [],
   "source": [
    "\n",
    "def reverse_model(model, api_functional):\n",
    "    \"\"\" reverse ingeneering model keras \"\"\"\n",
    "    \"\"\" can be used to convert from Sequential <-> Functional model \n",
    "    input:\n",
    "        model : existing model you want the source \n",
    "        api_fontional : True for functional, False for Sequential modeling\n",
    "    output:\n",
    "        new model: \n",
    "        source\n",
    "    \"\"\"    \n",
    "    cfg = model.get_config()\n",
    "    lst_couches = cfg['layers']\n",
    "    visible = None\n",
    "    hidden = None\n",
    "    input_shape = []\n",
    "    src = []\n",
    "    new_model = Model()        \n",
    "    if not api_functional:\n",
    "        new_model = Sequential()\n",
    "        src.append(\"model = Sequential()\")\n",
    "        \n",
    "    for x in lst_couches:\n",
    "        c = x['class_name']\n",
    "        units = 0\n",
    "        activation = ''\n",
    "        if 'units' in x['config']:\n",
    "            units = x['config']['units']\n",
    "        if 'activation'in x['config']:            \n",
    "            activation = x['config']['activation']\n",
    "        if 'batch_input_shape' in x['config'].keys():\n",
    "            batch_input_shape = x['config']['batch_input_shape']\n",
    "            for s in batch_input_shape:\n",
    "                if not s is None:\n",
    "                    input_shape.append(s)\n",
    "            input_shape = tuple(input_shape)        \n",
    "            if api_functional and visible is None:\n",
    "                visible = layers.Input(shape=input_shape)\n",
    "                src.append(\"visible = layers.Input(shape=\"+str(input_shape)+\")\")\n",
    "            #print(c, units, activation, input_shape)\n",
    "        #else:\n",
    "        #    print(c, units, activation)\n",
    "        if c == 'Dense':\n",
    "            if hidden is None: \n",
    "                if api_functional: \n",
    "                    hidden = layers.Dense(units, activation=activation)(visible)\n",
    "                    src.append(\"hidden = layers.Dense(\"+str(units)+\", activation='\"+str(activation)+\"')(visible)\")\n",
    "                else:\n",
    "                    hidden = True\n",
    "                    new_model.add(Dense(units, activation=activation, input_shape=input_shape))\n",
    "                    src.append(\"model.add(Dense(\"+str(units)+\", activation='\"+str(activation)+\"', input_shape=\"+str(input_shape)+\")\")\n",
    "            else:\n",
    "                if api_functional: \n",
    "                    hidden = layers.Dense(units, activation=activation)(hidden)\n",
    "                    src.append(\"hidden = layers.Dense(\"+str(units)+\", activation='\"+str(activation)+\"')(hidden)\")\n",
    "                else:\n",
    "                    new_model.add(Dense(units, activation=activation))\n",
    "                    src.append(\"model.add(Dense(\"+str(units)+\", activation='\"+str(activation)+\"')\")\n",
    "                    \n",
    "    #if c == 'InputLayer':        \n",
    "    if api_functional:                 \n",
    "        new_model = Model(inputs=visible, outputs=hidden)        \n",
    "        src.append(\"model = Model(inputs=visible, outputs=hidden)\")        \n",
    "    print(new_model.summary())\n",
    "    mod = \"Sequential\"\n",
    "    if api_functional:\n",
    "        mod = \"Functional\"\n",
    "    mod += \" model:\"    \n",
    "    src = [mod] + src    \n",
    "    print(\"\\n\".join(src))\n",
    "    return new_model\n"
   ]
  },
  {
   "cell_type": "markdown",
   "metadata": {},
   "source": [
    "#### create a sequential model"
   ]
  },
  {
   "cell_type": "code",
   "execution_count": 3,
   "metadata": {},
   "outputs": [
    {
     "name": "stdout",
     "output_type": "stream",
     "text": [
      "WARNING:tensorflow:From C:\\ProgramData\\Anaconda33\\lib\\site-packages\\tensorflow\\python\\framework\\op_def_library.py:263: colocate_with (from tensorflow.python.framework.ops) is deprecated and will be removed in a future version.\n",
      "Instructions for updating:\n",
      "Colocations handled automatically by placer.\n",
      "_________________________________________________________________\n",
      "Layer (type)                 Output Shape              Param #   \n",
      "=================================================================\n",
      "dense_1 (Dense)              (None, 10)                110       \n",
      "_________________________________________________________________\n",
      "dense_2 (Dense)              (None, 20)                220       \n",
      "_________________________________________________________________\n",
      "dense_3 (Dense)              (None, 10)                210       \n",
      "_________________________________________________________________\n",
      "dense_4 (Dense)              (None, 1)                 11        \n",
      "=================================================================\n",
      "Total params: 551\n",
      "Trainable params: 551\n",
      "Non-trainable params: 0\n",
      "_________________________________________________________________\n"
     ]
    }
   ],
   "source": [
    "\n",
    "def create_seq_model():\n",
    "    \"\"\" create a sequential model \"\"\"\n",
    "    model = Sequential()\n",
    "    model.add(Dense(10, activation='relu', input_shape=(10,)))\n",
    "    model.add(Dense(20, activation='relu'))\n",
    "    model.add(Dense(10, activation='relu'))\n",
    "    model.add(Dense(1, activation='sigmoid'))\n",
    "    model.summary()\n",
    "    return model\n",
    "\n",
    "model = create_seq_model()"
   ]
  },
  {
   "cell_type": "markdown",
   "metadata": {},
   "source": [
    "#### Reverse ingeneering to produce an api functional model"
   ]
  },
  {
   "cell_type": "code",
   "execution_count": 4,
   "metadata": {},
   "outputs": [
    {
     "name": "stdout",
     "output_type": "stream",
     "text": [
      "_________________________________________________________________\n",
      "Layer (type)                 Output Shape              Param #   \n",
      "=================================================================\n",
      "input_1 (InputLayer)         (None, 10)                0         \n",
      "_________________________________________________________________\n",
      "dense_5 (Dense)              (None, 10)                110       \n",
      "_________________________________________________________________\n",
      "dense_6 (Dense)              (None, 20)                220       \n",
      "_________________________________________________________________\n",
      "dense_7 (Dense)              (None, 10)                210       \n",
      "_________________________________________________________________\n",
      "dense_8 (Dense)              (None, 1)                 11        \n",
      "=================================================================\n",
      "Total params: 551\n",
      "Trainable params: 551\n",
      "Non-trainable params: 0\n",
      "_________________________________________________________________\n",
      "None\n",
      "Functional model:\n",
      "visible = layers.Input(shape=(10,))\n",
      "hidden = layers.Dense(10, activation='relu')(visible)\n",
      "hidden = layers.Dense(20, activation='relu')(hidden)\n",
      "hidden = layers.Dense(10, activation='relu')(hidden)\n",
      "hidden = layers.Dense(1, activation='sigmoid')(hidden)\n",
      "model = Model(inputs=visible, outputs=hidden)\n"
     ]
    },
    {
     "data": {
      "image/svg+xml": [
       "<svg height=\"337pt\" viewBox=\"0.00 0.00 134.00 337.00\" width=\"134pt\" xmlns=\"http://www.w3.org/2000/svg\" xmlns:xlink=\"http://www.w3.org/1999/xlink\">\n",
       "<g class=\"graph\" id=\"graph0\" transform=\"scale(1 1) rotate(0) translate(4 333)\">\n",
       "<title>G</title>\n",
       "<polygon fill=\"white\" points=\"-4,4 -4,-333 130,-333 130,4 -4,4\" stroke=\"none\"/>\n",
       "<!-- 1466093243528 -->\n",
       "<g class=\"node\" id=\"node1\"><title>1466093243528</title>\n",
       "<polygon fill=\"none\" points=\"0,-292.5 0,-328.5 126,-328.5 126,-292.5 0,-292.5\" stroke=\"black\"/>\n",
       "<text font-family=\"Times New Roman,serif\" font-size=\"14.00\" text-anchor=\"middle\" x=\"63\" y=\"-306.8\">input_1: InputLayer</text>\n",
       "</g>\n",
       "<!-- 1466093494456 -->\n",
       "<g class=\"node\" id=\"node2\"><title>1466093494456</title>\n",
       "<polygon fill=\"none\" points=\"11,-219.5 11,-255.5 115,-255.5 115,-219.5 11,-219.5\" stroke=\"black\"/>\n",
       "<text font-family=\"Times New Roman,serif\" font-size=\"14.00\" text-anchor=\"middle\" x=\"63\" y=\"-233.8\">dense_5: Dense</text>\n",
       "</g>\n",
       "<!-- 1466093243528&#45;&gt;1466093494456 -->\n",
       "<g class=\"edge\" id=\"edge1\"><title>1466093243528-&gt;1466093494456</title>\n",
       "<path d=\"M63,-292.313C63,-284.289 63,-274.547 63,-265.569\" fill=\"none\" stroke=\"black\"/>\n",
       "<polygon fill=\"black\" points=\"66.5001,-265.529 63,-255.529 59.5001,-265.529 66.5001,-265.529\" stroke=\"black\"/>\n",
       "</g>\n",
       "<!-- 1466093243752 -->\n",
       "<g class=\"node\" id=\"node3\"><title>1466093243752</title>\n",
       "<polygon fill=\"none\" points=\"11,-146.5 11,-182.5 115,-182.5 115,-146.5 11,-146.5\" stroke=\"black\"/>\n",
       "<text font-family=\"Times New Roman,serif\" font-size=\"14.00\" text-anchor=\"middle\" x=\"63\" y=\"-160.8\">dense_6: Dense</text>\n",
       "</g>\n",
       "<!-- 1466093494456&#45;&gt;1466093243752 -->\n",
       "<g class=\"edge\" id=\"edge2\"><title>1466093494456-&gt;1466093243752</title>\n",
       "<path d=\"M63,-219.313C63,-211.289 63,-201.547 63,-192.569\" fill=\"none\" stroke=\"black\"/>\n",
       "<polygon fill=\"black\" points=\"66.5001,-192.529 63,-182.529 59.5001,-192.529 66.5001,-192.529\" stroke=\"black\"/>\n",
       "</g>\n",
       "<!-- 1466193192664 -->\n",
       "<g class=\"node\" id=\"node4\"><title>1466193192664</title>\n",
       "<polygon fill=\"none\" points=\"11,-73.5 11,-109.5 115,-109.5 115,-73.5 11,-73.5\" stroke=\"black\"/>\n",
       "<text font-family=\"Times New Roman,serif\" font-size=\"14.00\" text-anchor=\"middle\" x=\"63\" y=\"-87.8\">dense_7: Dense</text>\n",
       "</g>\n",
       "<!-- 1466093243752&#45;&gt;1466193192664 -->\n",
       "<g class=\"edge\" id=\"edge3\"><title>1466093243752-&gt;1466193192664</title>\n",
       "<path d=\"M63,-146.313C63,-138.289 63,-128.547 63,-119.569\" fill=\"none\" stroke=\"black\"/>\n",
       "<polygon fill=\"black\" points=\"66.5001,-119.529 63,-109.529 59.5001,-119.529 66.5001,-119.529\" stroke=\"black\"/>\n",
       "</g>\n",
       "<!-- 1466193461824 -->\n",
       "<g class=\"node\" id=\"node5\"><title>1466193461824</title>\n",
       "<polygon fill=\"none\" points=\"11,-0.5 11,-36.5 115,-36.5 115,-0.5 11,-0.5\" stroke=\"black\"/>\n",
       "<text font-family=\"Times New Roman,serif\" font-size=\"14.00\" text-anchor=\"middle\" x=\"63\" y=\"-14.8\">dense_8: Dense</text>\n",
       "</g>\n",
       "<!-- 1466193192664&#45;&gt;1466193461824 -->\n",
       "<g class=\"edge\" id=\"edge4\"><title>1466193192664-&gt;1466193461824</title>\n",
       "<path d=\"M63,-73.3129C63,-65.2895 63,-55.5475 63,-46.5691\" fill=\"none\" stroke=\"black\"/>\n",
       "<polygon fill=\"black\" points=\"66.5001,-46.5288 63,-36.5288 59.5001,-46.5289 66.5001,-46.5288\" stroke=\"black\"/>\n",
       "</g>\n",
       "</g>\n",
       "</svg>"
      ],
      "text/plain": [
       "<IPython.core.display.SVG object>"
      ]
     },
     "execution_count": 4,
     "metadata": {},
     "output_type": "execute_result"
    }
   ],
   "source": [
    "model_f = reverse_model(model, api_functional=True)\n",
    "SVG(model_to_dot(model_f).create(prog='dot', format='svg'))"
   ]
  },
  {
   "cell_type": "markdown",
   "metadata": {},
   "source": [
    "#### Reverse ingeneering to produce an api sequential model"
   ]
  },
  {
   "cell_type": "code",
   "execution_count": 5,
   "metadata": {},
   "outputs": [
    {
     "name": "stdout",
     "output_type": "stream",
     "text": [
      "_________________________________________________________________\n",
      "Layer (type)                 Output Shape              Param #   \n",
      "=================================================================\n",
      "dense_9 (Dense)              (None, 10)                110       \n",
      "_________________________________________________________________\n",
      "dense_10 (Dense)             (None, 20)                220       \n",
      "_________________________________________________________________\n",
      "dense_11 (Dense)             (None, 10)                210       \n",
      "_________________________________________________________________\n",
      "dense_12 (Dense)             (None, 1)                 11        \n",
      "=================================================================\n",
      "Total params: 551\n",
      "Trainable params: 551\n",
      "Non-trainable params: 0\n",
      "_________________________________________________________________\n",
      "None\n",
      "Sequential model:\n",
      "model = Sequential()\n",
      "model.add(Dense(10, activation='relu', input_shape=(10,))\n",
      "model.add(Dense(20, activation='relu')\n",
      "model.add(Dense(10, activation='relu')\n",
      "model.add(Dense(1, activation='sigmoid')\n"
     ]
    },
    {
     "data": {
      "text/plain": [
       "<keras.engine.sequential.Sequential at 0x15549955320>"
      ]
     },
     "execution_count": 5,
     "metadata": {},
     "output_type": "execute_result"
    }
   ],
   "source": [
    "reverse_model(model, api_functional=False)\n"
   ]
  },
  {
   "cell_type": "markdown",
   "metadata": {},
   "source": [
    "#### Reverse ingeneering to produce a sequential model, from a functional model style"
   ]
  },
  {
   "cell_type": "code",
   "execution_count": 6,
   "metadata": {},
   "outputs": [
    {
     "name": "stdout",
     "output_type": "stream",
     "text": [
      "_________________________________________________________________\n",
      "Layer (type)                 Output Shape              Param #   \n",
      "=================================================================\n",
      "dense_13 (Dense)             (None, 10)                110       \n",
      "_________________________________________________________________\n",
      "dense_14 (Dense)             (None, 20)                220       \n",
      "_________________________________________________________________\n",
      "dense_15 (Dense)             (None, 10)                210       \n",
      "_________________________________________________________________\n",
      "dense_16 (Dense)             (None, 1)                 11        \n",
      "=================================================================\n",
      "Total params: 551\n",
      "Trainable params: 551\n",
      "Non-trainable params: 0\n",
      "_________________________________________________________________\n",
      "None\n",
      "Sequential model:\n",
      "model = Sequential()\n",
      "model.add(Dense(10, activation='relu', input_shape=(10,))\n",
      "model.add(Dense(20, activation='relu')\n",
      "model.add(Dense(10, activation='relu')\n",
      "model.add(Dense(1, activation='sigmoid')\n"
     ]
    },
    {
     "data": {
      "text/plain": [
       "<keras.engine.sequential.Sequential at 0x155499557f0>"
      ]
     },
     "execution_count": 6,
     "metadata": {},
     "output_type": "execute_result"
    }
   ],
   "source": [
    "reverse_model(model_f, api_functional=False)\n"
   ]
  },
  {
   "cell_type": "code",
   "execution_count": 7,
   "metadata": {},
   "outputs": [
    {
     "data": {
      "image/svg+xml": [
       "<svg height=\"337pt\" viewBox=\"0.00 0.00 112.00 337.00\" width=\"112pt\" xmlns=\"http://www.w3.org/2000/svg\" xmlns:xlink=\"http://www.w3.org/1999/xlink\">\n",
       "<g class=\"graph\" id=\"graph0\" transform=\"scale(1 1) rotate(0) translate(4 333)\">\n",
       "<title>G</title>\n",
       "<polygon fill=\"white\" points=\"-4,4 -4,-333 108,-333 108,4 -4,4\" stroke=\"none\"/>\n",
       "<!-- 1466093495016 -->\n",
       "<g class=\"node\" id=\"node1\"><title>1466093495016</title>\n",
       "<polygon fill=\"none\" points=\"0,-219.5 0,-255.5 104,-255.5 104,-219.5 0,-219.5\" stroke=\"black\"/>\n",
       "<text font-family=\"Times New Roman,serif\" font-size=\"14.00\" text-anchor=\"middle\" x=\"52\" y=\"-233.8\">dense_1: Dense</text>\n",
       "</g>\n",
       "<!-- 1466093496528 -->\n",
       "<g class=\"node\" id=\"node2\"><title>1466093496528</title>\n",
       "<polygon fill=\"none\" points=\"0,-146.5 0,-182.5 104,-182.5 104,-146.5 0,-146.5\" stroke=\"black\"/>\n",
       "<text font-family=\"Times New Roman,serif\" font-size=\"14.00\" text-anchor=\"middle\" x=\"52\" y=\"-160.8\">dense_2: Dense</text>\n",
       "</g>\n",
       "<!-- 1466093495016&#45;&gt;1466093496528 -->\n",
       "<g class=\"edge\" id=\"edge2\"><title>1466093495016-&gt;1466093496528</title>\n",
       "<path d=\"M52,-219.313C52,-211.289 52,-201.547 52,-192.569\" fill=\"none\" stroke=\"black\"/>\n",
       "<polygon fill=\"black\" points=\"55.5001,-192.529 52,-182.529 48.5001,-192.529 55.5001,-192.529\" stroke=\"black\"/>\n",
       "</g>\n",
       "<!-- 1466093471728 -->\n",
       "<g class=\"node\" id=\"node3\"><title>1466093471728</title>\n",
       "<polygon fill=\"none\" points=\"0,-73.5 0,-109.5 104,-109.5 104,-73.5 0,-73.5\" stroke=\"black\"/>\n",
       "<text font-family=\"Times New Roman,serif\" font-size=\"14.00\" text-anchor=\"middle\" x=\"52\" y=\"-87.8\">dense_3: Dense</text>\n",
       "</g>\n",
       "<!-- 1466093496528&#45;&gt;1466093471728 -->\n",
       "<g class=\"edge\" id=\"edge3\"><title>1466093496528-&gt;1466093471728</title>\n",
       "<path d=\"M52,-146.313C52,-138.289 52,-128.547 52,-119.569\" fill=\"none\" stroke=\"black\"/>\n",
       "<polygon fill=\"black\" points=\"55.5001,-119.529 52,-109.529 48.5001,-119.529 55.5001,-119.529\" stroke=\"black\"/>\n",
       "</g>\n",
       "<!-- 1466093626704 -->\n",
       "<g class=\"node\" id=\"node4\"><title>1466093626704</title>\n",
       "<polygon fill=\"none\" points=\"0,-0.5 0,-36.5 104,-36.5 104,-0.5 0,-0.5\" stroke=\"black\"/>\n",
       "<text font-family=\"Times New Roman,serif\" font-size=\"14.00\" text-anchor=\"middle\" x=\"52\" y=\"-14.8\">dense_4: Dense</text>\n",
       "</g>\n",
       "<!-- 1466093471728&#45;&gt;1466093626704 -->\n",
       "<g class=\"edge\" id=\"edge4\"><title>1466093471728-&gt;1466093626704</title>\n",
       "<path d=\"M52,-73.3129C52,-65.2895 52,-55.5475 52,-46.5691\" fill=\"none\" stroke=\"black\"/>\n",
       "<polygon fill=\"black\" points=\"55.5001,-46.5288 52,-36.5288 48.5001,-46.5289 55.5001,-46.5288\" stroke=\"black\"/>\n",
       "</g>\n",
       "<!-- 1466093495464 -->\n",
       "<g class=\"node\" id=\"node5\"><title>1466093495464</title>\n",
       "<polygon fill=\"none\" points=\"0,-292.5 0,-328.5 104,-328.5 104,-292.5 0,-292.5\" stroke=\"black\"/>\n",
       "<text font-family=\"Times New Roman,serif\" font-size=\"14.00\" text-anchor=\"middle\" x=\"52\" y=\"-306.8\">1466093495464</text>\n",
       "</g>\n",
       "<!-- 1466093495464&#45;&gt;1466093495016 -->\n",
       "<g class=\"edge\" id=\"edge1\"><title>1466093495464-&gt;1466093495016</title>\n",
       "<path d=\"M52,-292.313C52,-284.289 52,-274.547 52,-265.569\" fill=\"none\" stroke=\"black\"/>\n",
       "<polygon fill=\"black\" points=\"55.5001,-265.529 52,-255.529 48.5001,-265.529 55.5001,-265.529\" stroke=\"black\"/>\n",
       "</g>\n",
       "</g>\n",
       "</svg>"
      ],
      "text/plain": [
       "<IPython.core.display.SVG object>"
      ]
     },
     "execution_count": 7,
     "metadata": {},
     "output_type": "execute_result"
    }
   ],
   "source": [
    "SVG(model_to_dot(model).create(prog='dot', format='svg'))"
   ]
  },
  {
   "cell_type": "code",
   "execution_count": null,
   "metadata": {},
   "outputs": [],
   "source": []
  }
 ],
 "metadata": {
  "kernelspec": {
   "display_name": "Python 3",
   "language": "python",
   "name": "python3"
  },
  "language_info": {
   "codemirror_mode": {
    "name": "ipython",
    "version": 3
   },
   "file_extension": ".py",
   "mimetype": "text/x-python",
   "name": "python",
   "nbconvert_exporter": "python",
   "pygments_lexer": "ipython3",
   "version": "3.6.9"
  }
 },
 "nbformat": 4,
 "nbformat_minor": 2
}
